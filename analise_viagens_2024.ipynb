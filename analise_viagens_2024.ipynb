{
 "cells": [
  {
   "cell_type": "markdown",
   "id": "fc462116",
   "metadata": {},
   "source": [
    "\n",
    "# Relatório de Análise de Viagens - Portal da Transparência 2024\n",
    "\n",
    "## Introdução\n",
    "Este relatório apresenta uma análise detalhada dos dados de viagens registradas no Portal da Transparência em 2024, com base no arquivo `2024_Viagem.csv`. O objetivo é explorar padrões de despesas, duração das viagens, destinos e impactos de fatores como urgência, utilizando técnicas de manipulação de dados com Python (Pandas) e visualização (Matplotlib). Os dados foram processados e visualizados em um notebook Jupyter, com os resultados sumarizados a seguir.\n"
   ]
  },
  {
   "cell_type": "markdown",
   "id": "91420c87",
   "metadata": {},
   "source": [
    "\n",
    "## Metodologia\n",
    "- **Fonte de Dados:** Arquivo CSV contendo informações de processos de viagem, incluindo CPF do viajante, cargo, datas, destinos, valores de diárias, passagens e outros gastos.\n",
    "- **Ferramentas:** Python com bibliotecas Pandas (para análise) e Matplotlib (para gráficos).\n",
    "- **Processamento:** Criação de colunas como `Despesas` (soma de diárias, passagens e outros gastos) e `Dias de viagem` (diferença entre data de início e fim). Tratamento de valores nulos (ex.: \"Cargo não informado\").\n",
    "- **Visualizações:** Gráficos de barras, pizza e boxplot para representar os dados.\n"
   ]
  },
  {
   "cell_type": "markdown",
   "id": "7bc5304d",
   "metadata": {},
   "source": [
    "### 1. Despesas Totais por Cargo\n",
    "- **Objetivo:** Identificar quais cargos geram os maiores custos de viagem.\n",
    "- **Resultado:** O cargo \"Cargo não informado\" lidera com despesas totais significativas, seguido por cargos como \"AUDITOR-FISCAL DA RECEITA FEDERAL BRASIL\". Isso pode indicar uma necessidade de maior detalhamento nos registros.\n"
   ]
  },
  {
   "cell_type": "markdown",
   "id": "175bd0f8",
   "metadata": {},
   "source": [
    "![Despesas Totais por Cargo](images/despesas_totais_por_cargo.png)"
   ]
  },
  {
   "cell_type": "markdown",
   "id": "60ebc2a0",
   "metadata": {},
   "source": [
    "### 2. Distribuição de Viagens por Mês\n",
    "- **Objetivo:** Verificar a sazonalidade das viagens ao longo do ano.\n",
    "- **Resultado:** Há uma distribuição variada, com picos potenciais em meses como janeiro (devido a uma viagem de 365 dias) e maio. Isso sugere necessidade de investigar outliers.\n"
   ]
  },
  {
   "cell_type": "markdown",
   "id": "ef1aa08f",
   "metadata": {},
   "source": [
    "![Distribuição de Viagens por Mês](images/viagens_por_mes.png)"
   ]
  },
  {
   "cell_type": "markdown",
   "id": "5c5ea428",
   "metadata": {},
   "source": [
    "### 3. Duração Média das Viagens\n",
    "- **Objetivo:** Analisar a duração típica das viagens por cargo.\n",
    "- **Resultado:** A duração média varia, com alguns cargos apresentando viagens longas (ex.: 365 dias em janeiro para \"Cargo não informado\"), possivelmente um erro de dados. A média geral exclui esses casos extremos.\n"
   ]
  },
  {
   "cell_type": "markdown",
   "id": "3226455d",
   "metadata": {},
   "source": [
    "![Duração Média das Viagens](images/duracao_media_por_cargo.png)"
   ]
  },
  {
   "cell_type": "markdown",
   "id": "7231910d",
   "metadata": {},
   "source": [
    "### 4. Destinos Mais Frequentes\n",
    "- **Objetivo:** Identificar os destinos mais comuns e seus custos associados.\n",
    "- **Resultado:** Brasília/DF e Rio de Janeiro/RJ aparecem como destinos frequentes, refletindo atividades centralizadas. Destinos internacionais (ex.: Xangai/China) têm custos elevados de passagens.\n"
   ]
  },
  {
   "cell_type": "markdown",
   "id": "d0b409bc",
   "metadata": {},
   "source": [
    "![Destinos Mais Frequentes](images/destinos_frequentes.png)"
   ]
  },
  {
   "cell_type": "markdown",
   "id": "16507c03",
   "metadata": {},
   "source": [
    "### 5. Impacto de Viagens Urgentes\n",
    "- **Objetivo:** Comparar despesas de viagens urgentes versus não urgentes.\n",
    "- **Resultado:** Viagens marcadas como urgentes (ex.: linhas 9918 e 241056) tendem a ter custos mais altos, possivelmente devido a passagens ou diárias elevadas.\n"
   ]
  },
  {
   "cell_type": "markdown",
   "id": "8135481e",
   "metadata": {},
   "source": [
    "![Impacto de Viagens Urgentes](images/despesas_por_urgencia.png)"
   ]
  },
  {
   "cell_type": "markdown",
   "id": "e20b73b5",
   "metadata": {},
   "source": [
    "### 6. Custo por Órgão Solicitante\n",
    "- **Objetivo:** Avaliar o impacto financeiro por órgão.\n",
    "- **Resultado:** Órgãos como o Ministério da Agricultura e Pecuária e a Polícia Federal apresentam despesas significativas, indicando alta atividade de viagens.\n"
   ]
  },
  {
   "cell_type": "markdown",
   "id": "dbe0eec3",
   "metadata": {},
   "source": [
    "![Custo por Órgão Solicitante](images/despesas_por_orgao.png)"
   ]
  },
  {
   "cell_type": "markdown",
   "id": "cccd9e01",
   "metadata": {},
   "source": [
    "### 7. Análise de Outliers\n",
    "- **Objetivo:** Detectar e investigar anomalias nos dados.\n",
    "- **Resultado:** Uma viagem de 365 dias (janeiro, linha 9918) é um outlier claro, possivelmente devido a um erro na data de fim (2024-12-31). Outros casos com durações longas devem ser revisados.\n"
   ]
  },
  {
   "cell_type": "markdown",
   "id": "546a948b",
   "metadata": {},
   "source": [
    "![Análise de Outliers](images/boxplot_duracao.png)"
   ]
  },
  {
   "cell_type": "markdown",
   "id": "d7cb5426",
   "metadata": {},
   "source": [
    "\n",
    "## Conclusões\n",
    "\n",
    "### Principais Insights:\n",
    "- A falta de informação em \"Cargo\" e \"Órgão\" sugere necessidade de melhoria na qualidade dos dados.\n",
    "- Viagens longas e urgentes impactam significativamente os custos totais.\n",
    "- Brasília/DF é o destino mais frequente, refletindo centralização administrativa.\n"
   ]
  }
 ],
 "metadata": {
  "language_info": {
   "name": "python"
  }
 },
 "nbformat": 4,
 "nbformat_minor": 5
}
