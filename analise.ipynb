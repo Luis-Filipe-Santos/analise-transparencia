{
 "cells": [
  {
   "cell_type": "markdown",
   "id": "e6da03a1",
   "metadata": {},
   "source": [
    "# Análise de dados com Python - Portal da Transparência"
   ]
  },
  {
   "cell_type": "code",
   "execution_count": 14,
   "id": "7c664758",
   "metadata": {},
   "outputs": [],
   "source": [
    "caminho_dados = 'dados/2024_Viagem.csv'"
   ]
  },
  {
   "cell_type": "code",
   "execution_count": 15,
   "id": "4c635b5c",
   "metadata": {},
   "outputs": [],
   "source": [
    "import pandas as pd\n",
    "\n",
    "pd.set_option('display.max_columns', None)\n",
    "pd.set_option('display.float_format', '{:.2f}'.format)"
   ]
  },
  {
   "cell_type": "markdown",
   "id": "fb0a71e8",
   "metadata": {},
   "source": [
    "## Lendo os dados"
   ]
  },
  {
   "cell_type": "code",
   "execution_count": 16,
   "id": "58886cd6",
   "metadata": {},
   "outputs": [],
   "source": [
    "df_viagens = pd.read_csv(caminho_dados, sep=';', decimal=',', encoding='windows-1252')"
   ]
  },
  {
   "cell_type": "markdown",
   "id": "0e4520a6",
   "metadata": {},
   "source": [
    "## Criando nova coluna de Despesas "
   ]
  },
  {
   "cell_type": "code",
   "execution_count": 17,
   "id": "67f45463",
   "metadata": {},
   "outputs": [],
   "source": [
    "df_viagens['Despesas'] = df_viagens['Valor diárias'] + df_viagens['Valor passagens'] + df_viagens['Valor outros gastos']"
   ]
  },
  {
   "cell_type": "markdown",
   "id": "4d7ba95e",
   "metadata": {},
   "source": [
    "## Ajustando valores nulos na coluna de cargo"
   ]
  },
  {
   "cell_type": "code",
   "execution_count": 18,
   "id": "2adfa508",
   "metadata": {},
   "outputs": [],
   "source": [
    "df_viagens['Cargo'] = df_viagens['Cargo'].fillna('Cargo não informado')"
   ]
  }
 ],
 "metadata": {
  "kernelspec": {
   "display_name": "Python (.venv)",
   "language": "python",
   "name": "venv"
  },
  "language_info": {
   "codemirror_mode": {
    "name": "ipython",
    "version": 3
   },
   "file_extension": ".py",
   "mimetype": "text/x-python",
   "name": "python",
   "nbconvert_exporter": "python",
   "pygments_lexer": "ipython3",
   "version": "3.12.10"
  }
 },
 "nbformat": 4,
 "nbformat_minor": 5
}
