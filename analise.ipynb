{
 "cells": [
  {
   "cell_type": "markdown",
   "id": "e6da03a1",
   "metadata": {},
   "source": [
    "# Análise de dados com Python - Portal da Transparência"
   ]
  },
  {
   "cell_type": "code",
   "execution_count": 50,
   "id": "7c664758",
   "metadata": {},
   "outputs": [],
   "source": [
    "caminho_dados = 'dados/2024_Viagem.csv'"
   ]
  },
  {
   "cell_type": "code",
   "execution_count": 51,
   "id": "4c635b5c",
   "metadata": {},
   "outputs": [],
   "source": [
    "import pandas as pd\n",
    "\n",
    "pd.set_option('display.max_columns', None)\n",
    "pd.set_option('display.float_format', '{:.2f}'.format)"
   ]
  },
  {
   "cell_type": "markdown",
   "id": "fb0a71e8",
   "metadata": {},
   "source": [
    "## Lendo os dados"
   ]
  },
  {
   "cell_type": "code",
   "execution_count": 52,
   "id": "58886cd6",
   "metadata": {},
   "outputs": [],
   "source": [
    "df_viagens = pd.read_csv(caminho_dados, sep=';', decimal=',', encoding='windows-1252')"
   ]
  },
  {
   "cell_type": "markdown",
   "id": "0e4520a6",
   "metadata": {},
   "source": [
    "## Criando nova coluna de Despesas "
   ]
  },
  {
   "cell_type": "code",
   "execution_count": 53,
   "id": "67f45463",
   "metadata": {},
   "outputs": [],
   "source": [
    "df_viagens['Despesas'] = df_viagens['Valor diárias'] + df_viagens['Valor passagens'] + df_viagens['Valor outros gastos']"
   ]
  },
  {
   "cell_type": "markdown",
   "id": "4d7ba95e",
   "metadata": {},
   "source": [
    "## Ajustando valores nulos na coluna de cargo"
   ]
  },
  {
   "cell_type": "code",
   "execution_count": 54,
   "id": "2adfa508",
   "metadata": {},
   "outputs": [],
   "source": [
    "df_viagens['Cargo'] = df_viagens['Cargo'].fillna('Cargo não informado')"
   ]
  },
  {
   "cell_type": "markdown",
   "id": "59fd9bbb",
   "metadata": {},
   "source": [
    "## Convertendo colunas de datas"
   ]
  },
  {
   "cell_type": "code",
   "execution_count": 55,
   "id": "c11c12ad",
   "metadata": {},
   "outputs": [],
   "source": [
    "df_viagens[\"Período - Data de início\"] = pd.to_datetime(df_viagens[\"Período - Data de início\"], format='%d/%m/%Y', errors='coerce')\n",
    "df_viagens[\"Período - Data de fim\"] = pd.to_datetime(df_viagens[\"Período - Data de fim\"], format='%d/%m/%Y', errors='coerce')"
   ]
  },
  {
   "cell_type": "markdown",
   "id": "36cd7f00",
   "metadata": {},
   "source": [
    "## Criando novas colunas de datas"
   ]
  },
  {
   "cell_type": "code",
   "execution_count": 56,
   "id": "4f976d21",
   "metadata": {},
   "outputs": [],
   "source": [
    "# Nome do mês da Viagem\n",
    "df_viagens['Mês da Viagem'] = df_viagens['Período - Data de início'].dt.month_name()\n",
    "\n",
    "# Dias de duração da viagem\n",
    "df_viagens['Dias de viagem'] = (df_viagens['Período - Data de fim'] - df_viagens['Período - Data de início']).dt.days"
   ]
  },
  {
   "cell_type": "markdown",
   "id": "664044db",
   "metadata": {},
   "source": [
    "## Criando tabela consolidada"
   ]
  },
  {
   "cell_type": "code",
   "execution_count": 57,
   "id": "8ad68c2b",
   "metadata": {},
   "outputs": [],
   "source": [
    "df_viagens_consolidada = (df_viagens\n",
    "                          .groupby('Cargo')\n",
    "                          .agg(\n",
    "                              despesa_media=('Despesas', 'mean'),\n",
    "                              duracao_media=('Dias de viagem', 'mean'),\n",
    "                              despesas_totais=('Despesas', 'sum'),\n",
    "                              destino_mais_frequente=('Destinos', pd.Series.mode),\n",
    "                              n_viagens=('Nome', 'count')\n",
    "                          )\n",
    "                        .reset_index()\n",
    "                        .sort_values(by='despesas_totais', ascending=False))"
   ]
  },
  {
   "cell_type": "markdown",
   "id": "3995751e",
   "metadata": {},
   "source": [
    "## Filtrando tabela consolidada por cargos relevantes (> 1% das Viagens)"
   ]
  },
  {
   "cell_type": "code",
   "execution_count": 58,
   "id": "8581ce7e",
   "metadata": {},
   "outputs": [],
   "source": [
    "df_cargos = df_viagens['Cargo'].value_counts(normalize=True).reset_index()\n",
    "cargos_relevantes = df_cargos.loc[df_cargos['proportion'] > 0.01, 'Cargo']\n",
    "filtro = df_viagens_consolidada['Cargo'].isin(cargos_relevantes)"
   ]
  },
  {
   "cell_type": "markdown",
   "id": "61d6623e",
   "metadata": {},
   "source": [
    "## Chegando na tabela final - Consolidada e filtrada!"
   ]
  },
  {
   "cell_type": "code",
   "execution_count": 59,
   "id": "d5d06ab2",
   "metadata": {},
   "outputs": [],
   "source": [
    "df_final = df_viagens_consolidada[filtro].sort_values(by='n_viagens', ascending=False)"
   ]
  },
  {
   "cell_type": "code",
   "execution_count": 60,
   "id": "6f7c27d8",
   "metadata": {},
   "outputs": [
    {
     "data": {
      "text/html": [
       "<div>\n",
       "<style scoped>\n",
       "    .dataframe tbody tr th:only-of-type {\n",
       "        vertical-align: middle;\n",
       "    }\n",
       "\n",
       "    .dataframe tbody tr th {\n",
       "        vertical-align: top;\n",
       "    }\n",
       "\n",
       "    .dataframe thead th {\n",
       "        text-align: right;\n",
       "    }\n",
       "</style>\n",
       "<table border=\"1\" class=\"dataframe\">\n",
       "  <thead>\n",
       "    <tr style=\"text-align: right;\">\n",
       "      <th></th>\n",
       "      <th>Cargo</th>\n",
       "      <th>despesa_media</th>\n",
       "      <th>duracao_media</th>\n",
       "      <th>despesas_totais</th>\n",
       "      <th>destino_mais_frequente</th>\n",
       "      <th>n_viagens</th>\n",
       "    </tr>\n",
       "  </thead>\n",
       "  <tbody>\n",
       "    <tr>\n",
       "      <th>340</th>\n",
       "      <td>Cargo não informado</td>\n",
       "      <td>3574.12</td>\n",
       "      <td>7.64</td>\n",
       "      <td>1094734704.08</td>\n",
       "      <td>Brasília/DF</td>\n",
       "      <td>306295</td>\n",
       "    </tr>\n",
       "    <tr>\n",
       "      <th>467</th>\n",
       "      <td>Informações protegidas por sigilo</td>\n",
       "      <td>3433.61</td>\n",
       "      <td>7.44</td>\n",
       "      <td>406079749.80</td>\n",
       "      <td>Informações protegidas por sigilo</td>\n",
       "      <td>118266</td>\n",
       "    </tr>\n",
       "    <tr>\n",
       "      <th>598</th>\n",
       "      <td>PROFESSOR DO MAGISTERIO SUPERIOR</td>\n",
       "      <td>2229.97</td>\n",
       "      <td>3.95</td>\n",
       "      <td>115697383.00</td>\n",
       "      <td>Brasília/DF</td>\n",
       "      <td>51883</td>\n",
       "    </tr>\n",
       "    <tr>\n",
       "      <th>599</th>\n",
       "      <td>PROFESSOR ENS BASICO TECN TECNOLOGICO</td>\n",
       "      <td>1523.97</td>\n",
       "      <td>2.37</td>\n",
       "      <td>53136267.88</td>\n",
       "      <td>Brasília/DF</td>\n",
       "      <td>34867</td>\n",
       "    </tr>\n",
       "    <tr>\n",
       "      <th>335</th>\n",
       "      <td>CONTRATADO LEI 8745/93 - NI</td>\n",
       "      <td>847.17</td>\n",
       "      <td>2.26</td>\n",
       "      <td>14570511.56</td>\n",
       "      <td>Fortaleza/CE</td>\n",
       "      <td>17199</td>\n",
       "    </tr>\n",
       "    <tr>\n",
       "      <th>229</th>\n",
       "      <td>AUDITOR FISCAL FEDERAL AGROPECUARIO</td>\n",
       "      <td>1549.41</td>\n",
       "      <td>2.07</td>\n",
       "      <td>25088021.78</td>\n",
       "      <td>Brasília/DF</td>\n",
       "      <td>16192</td>\n",
       "    </tr>\n",
       "    <tr>\n",
       "      <th>91</th>\n",
       "      <td>ANALISTA AMBIENTAL</td>\n",
       "      <td>2821.74</td>\n",
       "      <td>5.20</td>\n",
       "      <td>36592385.67</td>\n",
       "      <td>Brasília/DF</td>\n",
       "      <td>12968</td>\n",
       "    </tr>\n",
       "    <tr>\n",
       "      <th>230</th>\n",
       "      <td>AUDITOR-FISCAL DA RECEITA FEDERAL BRASIL</td>\n",
       "      <td>2935.65</td>\n",
       "      <td>3.14</td>\n",
       "      <td>32873453.29</td>\n",
       "      <td>Brasília/DF</td>\n",
       "      <td>11198</td>\n",
       "    </tr>\n",
       "    <tr>\n",
       "      <th>199</th>\n",
       "      <td>ASSISTENTE EM ADMINISTRAçãO</td>\n",
       "      <td>1518.00</td>\n",
       "      <td>2.31</td>\n",
       "      <td>15948157.02</td>\n",
       "      <td>Brasília/DF</td>\n",
       "      <td>10506</td>\n",
       "    </tr>\n",
       "    <tr>\n",
       "      <th>133</th>\n",
       "      <td>ANALISTA TRIBUTARIO REC FEDERAL BRASIL</td>\n",
       "      <td>2053.62</td>\n",
       "      <td>3.42</td>\n",
       "      <td>20595751.66</td>\n",
       "      <td>Brasília/DF</td>\n",
       "      <td>10029</td>\n",
       "    </tr>\n",
       "    <tr>\n",
       "      <th>717</th>\n",
       "      <td>TECNICO DO SEGURO SOCIAL</td>\n",
       "      <td>4723.55</td>\n",
       "      <td>11.07</td>\n",
       "      <td>45034315.81</td>\n",
       "      <td>Brasília/DF</td>\n",
       "      <td>9534</td>\n",
       "    </tr>\n",
       "  </tbody>\n",
       "</table>\n",
       "</div>"
      ],
      "text/plain": [
       "                                        Cargo  despesa_media  duracao_media  \\\n",
       "340                       Cargo não informado        3574.12           7.64   \n",
       "467         Informações protegidas por sigilo        3433.61           7.44   \n",
       "598          PROFESSOR DO MAGISTERIO SUPERIOR        2229.97           3.95   \n",
       "599     PROFESSOR ENS BASICO TECN TECNOLOGICO        1523.97           2.37   \n",
       "335               CONTRATADO LEI 8745/93 - NI         847.17           2.26   \n",
       "229       AUDITOR FISCAL FEDERAL AGROPECUARIO        1549.41           2.07   \n",
       "91                         ANALISTA AMBIENTAL        2821.74           5.20   \n",
       "230  AUDITOR-FISCAL DA RECEITA FEDERAL BRASIL        2935.65           3.14   \n",
       "199               ASSISTENTE EM ADMINISTRAçãO        1518.00           2.31   \n",
       "133    ANALISTA TRIBUTARIO REC FEDERAL BRASIL        2053.62           3.42   \n",
       "717                  TECNICO DO SEGURO SOCIAL        4723.55          11.07   \n",
       "\n",
       "     despesas_totais             destino_mais_frequente  n_viagens  \n",
       "340    1094734704.08                        Brasília/DF     306295  \n",
       "467     406079749.80  Informações protegidas por sigilo     118266  \n",
       "598     115697383.00                        Brasília/DF      51883  \n",
       "599      53136267.88                        Brasília/DF      34867  \n",
       "335      14570511.56                       Fortaleza/CE      17199  \n",
       "229      25088021.78                        Brasília/DF      16192  \n",
       "91       36592385.67                        Brasília/DF      12968  \n",
       "230      32873453.29                        Brasília/DF      11198  \n",
       "199      15948157.02                        Brasília/DF      10506  \n",
       "133      20595751.66                        Brasília/DF      10029  \n",
       "717      45034315.81                        Brasília/DF       9534  "
      ]
     },
     "execution_count": 60,
     "metadata": {},
     "output_type": "execute_result"
    }
   ],
   "source": [
    "df_final"
   ]
  }
 ],
 "metadata": {
  "kernelspec": {
   "display_name": "Python (.venv)",
   "language": "python",
   "name": "venv"
  },
  "language_info": {
   "codemirror_mode": {
    "name": "ipython",
    "version": 3
   },
   "file_extension": ".py",
   "mimetype": "text/x-python",
   "name": "python",
   "nbconvert_exporter": "python",
   "pygments_lexer": "ipython3",
   "version": "3.12.10"
  }
 },
 "nbformat": 4,
 "nbformat_minor": 5
}
