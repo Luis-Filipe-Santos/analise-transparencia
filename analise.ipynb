{
 "cells": [
  {
   "cell_type": "markdown",
   "id": "e6da03a1",
   "metadata": {},
   "source": [
    "# Análise de dados com Python - Portal da Transparência"
   ]
  },
  {
   "cell_type": "code",
   "execution_count": 3,
   "id": "7c664758",
   "metadata": {},
   "outputs": [],
   "source": [
    "caminho_dados = 'https://drive.google.com/uc?export=download&id=1nqEvkBuIsNxCjrrv2pr9zyZajNIPVR3Q'"
   ]
  },
  {
   "cell_type": "code",
   "execution_count": 4,
   "id": "875e1b49",
   "metadata": {},
   "outputs": [],
   "source": [
    "import pandas as pd\n",
    "\n",
    "pd.set_option('display.max_columns', None)\n",
    "df_viagens = pd.read_csv(caminho_dados, encoding='Windows-1252', sep=';')"
   ]
  },
  {
   "cell_type": "code",
   "execution_count": null,
   "id": "a8984331",
   "metadata": {},
   "outputs": [],
   "source": []
  }
 ],
 "metadata": {
  "kernelspec": {
   "display_name": "Python (analise-transparencia).venv\\Scripts\\activate",
   "language": "python",
   "name": "analise-transparencia"
  },
  "language_info": {
   "codemirror_mode": {
    "name": "ipython",
    "version": 3
   },
   "file_extension": ".py",
   "mimetype": "text/x-python",
   "name": "python",
   "nbconvert_exporter": "python",
   "pygments_lexer": "ipython3",
   "version": "3.12.10"
  }
 },
 "nbformat": 4,
 "nbformat_minor": 5
}
