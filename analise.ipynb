{
 "cells": [
  {
   "cell_type": "markdown",
   "id": "e6da03a1",
   "metadata": {},
   "source": [
    "# Análise de dados com Python - Portal da Transparência"
   ]
  },
  {
   "cell_type": "code",
   "execution_count": 1,
   "id": "7c664758",
   "metadata": {},
   "outputs": [],
   "source": [
    "caminho_dados = 'dados/2024_Viagem.csv'"
   ]
  },
  {
   "cell_type": "markdown",
   "id": "be75e6cb",
   "metadata": {},
   "source": [
    "# Instalação do gdown (caso necessário)"
   ]
  },
  {
   "cell_type": "code",
   "execution_count": 2,
   "id": "4c635b5c",
   "metadata": {},
   "outputs": [],
   "source": [
    "import pandas as pd\n",
    "\n",
    "pd.set_option('display.max_columns', None)\n",
    "df_viagens = pd.read_csv(caminho_dados, sep=';', decimal=',', encoding='windows-1252')"
   ]
  },
  {
   "cell_type": "code",
   "execution_count": 3,
   "id": "fe677993",
   "metadata": {},
   "outputs": [
    {
     "name": "stdout",
     "output_type": "stream",
     "text": [
      "<class 'pandas.core.frame.DataFrame'>\n",
      "RangeIndex: 791067 entries, 0 to 791066\n",
      "Data columns (total 22 columns):\n",
      " #   Column                               Non-Null Count   Dtype  \n",
      "---  ------                               --------------   -----  \n",
      " 0   Identificador do processo de viagem  791067 non-null  int64  \n",
      " 1   Número da Proposta (PCDP)            791067 non-null  object \n",
      " 2   Situação                             791067 non-null  object \n",
      " 3   Viagem Urgente                       791067 non-null  object \n",
      " 4   Justificativa Urgência Viagem        790844 non-null  object \n",
      " 5   Código do órgão superior             791067 non-null  int64  \n",
      " 6   Nome do órgão superior               791067 non-null  object \n",
      " 7   Código órgão solicitante             791067 non-null  int64  \n",
      " 8   Nome órgão solicitante               791067 non-null  object \n",
      " 9   CPF viajante                         660029 non-null  object \n",
      " 10  Nome                                 791067 non-null  object \n",
      " 11  Cargo                                484772 non-null  object \n",
      " 12  Função                               791067 non-null  object \n",
      " 13  Descrição Função                     791064 non-null  object \n",
      " 14  Período - Data de início             791067 non-null  object \n",
      " 15  Período - Data de fim                791067 non-null  object \n",
      " 16  Destinos                             791067 non-null  object \n",
      " 17  Motivo                               791066 non-null  object \n",
      " 18  Valor diárias                        791067 non-null  float64\n",
      " 19  Valor passagens                      791067 non-null  float64\n",
      " 20  Valor devolução                      791067 non-null  float64\n",
      " 21  Valor outros gastos                  791067 non-null  float64\n",
      "dtypes: float64(4), int64(3), object(15)\n",
      "memory usage: 132.8+ MB\n"
     ]
    }
   ],
   "source": [
    "df_viagens.info()"
   ]
  },
  {
   "cell_type": "code",
   "execution_count": null,
   "id": "58886cd6",
   "metadata": {},
   "outputs": [],
   "source": []
  }
 ],
 "metadata": {
  "kernelspec": {
   "display_name": "Python (.venv)",
   "language": "python",
   "name": "venv"
  },
  "language_info": {
   "codemirror_mode": {
    "name": "ipython",
    "version": 3
   },
   "file_extension": ".py",
   "mimetype": "text/x-python",
   "name": "python",
   "nbconvert_exporter": "python",
   "pygments_lexer": "ipython3",
   "version": "3.12.10"
  }
 },
 "nbformat": 4,
 "nbformat_minor": 5
}
