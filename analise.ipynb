{
 "cells": [
  {
   "cell_type": "markdown",
   "id": "3720f51d",
   "metadata": {},
   "source": [
    "# Análise de Dados com Python - Portal da transparência"
   ]
  },
  {
   "cell_type": "code",
   "execution_count": null,
   "id": "468e41ea",
   "metadata": {
    "vscode": {
     "languageId": "plaintext"
    }
   },
   "outputs": [],
   "source": [
    "caminho_dados = 'https://drive.google.com/uc?export=download&id=1nqEvkBuIsNxCjrrv2pr9zyZajNIPVR3Q'"
   ]
  },
  {
   "cell_type": "code",
   "execution_count": null,
   "id": "bd6c17ac",
   "metadata": {
    "vscode": {
     "languageId": "plaintext"
    }
   },
   "outputs": [],
   "source": [
    "import pandas as pd \n",
    "\n",
    "pd.set_option('display.max_columns', None)\n",
    "df_viagens = pd.read_csv(caminho_dados, encoding='W')\n"
   ]
  }
 ],
 "metadata": {
  "language_info": {
   "name": "python"
  }
 },
 "nbformat": 4,
 "nbformat_minor": 5
}
