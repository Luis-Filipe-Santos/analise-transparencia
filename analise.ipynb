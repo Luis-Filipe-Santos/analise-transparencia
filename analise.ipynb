{
 "cells": [
  {
   "cell_type": "markdown",
   "id": "e6da03a1",
   "metadata": {},
   "source": [
    "# Análise de dados com Python - Portal da Transparência"
   ]
  },
  {
   "cell_type": "code",
   "execution_count": 18,
   "id": "7c664758",
   "metadata": {},
   "outputs": [],
   "source": [
    "caminho_dados = 'https://drive.google.com/uc?export=download&id=1nqEvkBuIsNxCjrrv2pr9zyZajNIPVR3Q'"
   ]
  },
  {
   "cell_type": "markdown",
   "id": "be75e6cb",
   "metadata": {},
   "source": [
    "# Instalação do gdown (caso necessário)"
   ]
  },
  {
   "cell_type": "code",
   "execution_count": 19,
   "id": "4c635b5c",
   "metadata": {},
   "outputs": [
    {
     "ename": "ModuleNotFoundError",
     "evalue": "No module named 'gdown'",
     "output_type": "error",
     "traceback": [
      "\u001b[31m---------------------------------------------------------------------------\u001b[39m",
      "\u001b[31mModuleNotFoundError\u001b[39m                       Traceback (most recent call last)",
      "\u001b[36mCell\u001b[39m\u001b[36m \u001b[39m\u001b[32mIn[19]\u001b[39m\u001b[32m, line 1\u001b[39m\n\u001b[32m----> \u001b[39m\u001b[32m1\u001b[39m \u001b[38;5;28;01mimport\u001b[39;00m\u001b[38;5;250m \u001b[39m\u001b[34;01mgdown\u001b[39;00m\n\u001b[32m      2\u001b[39m \u001b[38;5;28;01mimport\u001b[39;00m\u001b[38;5;250m \u001b[39m\u001b[34;01mpandas\u001b[39;00m\u001b[38;5;250m \u001b[39m\u001b[38;5;28;01mas\u001b[39;00m\u001b[38;5;250m \u001b[39m\u001b[34;01mpd\u001b[39;00m\n",
      "\u001b[31mModuleNotFoundError\u001b[39m: No module named 'gdown'"
     ]
    }
   ],
   "source": [
    "import gdown\n",
    "import pandas as pd"
   ]
  },
  {
   "cell_type": "markdown",
   "id": "180c4978",
   "metadata": {},
   "source": [
    "# Baixar o arquivo para a pasta local (mantendo a estrutura)"
   ]
  },
  {
   "cell_type": "code",
   "execution_count": null,
   "id": "875e1b49",
   "metadata": {},
   "outputs": [],
   "source": [
    "Ca = 'dados/2024_Viagem.csv'\n",
    "gdown.download(caminho_dados, output, quiet=False)"
   ]
  }
 ],
 "metadata": {
  "kernelspec": {
   "display_name": "Python (analise-transparencia).venv\\Scripts\\activate",
   "language": "python",
   "name": "analise-transparencia"
  },
  "language_info": {
   "codemirror_mode": {
    "name": "ipython",
    "version": 3
   },
   "file_extension": ".py",
   "mimetype": "text/x-python",
   "name": "python",
   "nbconvert_exporter": "python",
   "pygments_lexer": "ipython3",
   "version": "3.12.10"
  }
 },
 "nbformat": 4,
 "nbformat_minor": 5
}
